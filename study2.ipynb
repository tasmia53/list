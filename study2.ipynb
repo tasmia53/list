{
 "cells": [
  {
   "cell_type": "code",
   "execution_count": 2,
   "metadata": {},
   "outputs": [
    {
     "name": "stdout",
     "output_type": "stream",
     "text": [
      "Tasmias grocery list:\n",
      "['shampoo', 'catnip', 'fruits', 'bedding', 'tools', 'sweets', 'notebook']\n"
     ]
    }
   ],
   "source": [
    "print(\"Tasmias grocery list:\")\n",
    "groceries = [\"shampoo\", \"catnip\", \"fruits\", \"bedding\", \"tools\", \"sweets\", \"notebook\"]\n",
    "print(groceries)"
   ]
  },
  {
   "cell_type": "code",
   "execution_count": 7,
   "metadata": {},
   "outputs": [
    {
     "name": "stdout",
     "output_type": "stream",
     "text": [
      "savings_m: \n",
      "324.75\n",
      "tasmia\n",
      "tasmia is richie rich\n"
     ]
    }
   ],
   "source": [
    "name = 'tasmia'\n",
    "budget_week = 250\n",
    "expense_week = 175\n",
    "\n",
    "savings_m = (budget_week-expense_week) *4.33\n",
    "print(\"savings_m: \")\n",
    "print(savings_m)\n",
    "\n",
    "if savings_m > 100:\n",
    "    print(name)\n",
    "    print('tasmia is richie rich')\n",
    "else:\n",
    "    print(name)\n",
    "    print('tasmia ia broke')"
   ]
  },
  {
   "cell_type": "code",
   "execution_count": 8,
   "metadata": {},
   "outputs": [
    {
     "name": "stdout",
     "output_type": "stream",
     "text": [
      "tell me what's my first two grocery item\n",
      "['shampoo', 'catnip']\n"
     ]
    }
   ],
   "source": [
    "print(\"tell me what's my first two grocery item\")\n",
    "print(groceries[:2])"
   ]
  },
  {
   "cell_type": "code",
   "execution_count": 10,
   "metadata": {},
   "outputs": [
    {
     "name": "stdout",
     "output_type": "stream",
     "text": [
      "tell me last 5 items from my list\n",
      "['bedding', 'tools', 'sweets', 'notebook']\n"
     ]
    }
   ],
   "source": [
    "print(\"tell me items from my list except first 3 of them\")\n",
    "print(groceries[3:])\n"
   ]
  },
  {
   "cell_type": "code",
   "execution_count": 12,
   "metadata": {},
   "outputs": [
    {
     "name": "stdout",
     "output_type": "stream",
     "text": [
      "tell me items starting from 2nd items, not including any other except 4th item \n",
      "['catnip', 'tools']\n"
     ]
    }
   ],
   "source": [
    "print(\"tell me items starting from 2nd items, not including any other except 4th item \")\n",
    "print(groceries[1::3])\n"
   ]
  },
  {
   "cell_type": "code",
   "execution_count": 15,
   "metadata": {},
   "outputs": [
    {
     "name": "stdout",
     "output_type": "stream",
     "text": [
      "let me add flowers to my list...\n",
      "['shampoo', 'catnip', 'fruits', 'bedding', 'tools', 'sweets', 'notebook', 'flowers', 't', 'a', 's', 'm', 'i', 'a', 'tasmia']\n"
     ]
    }
   ],
   "source": [
    "print(\"let me add flowers to my list...\")\n",
    "groceries.append(\"tasmia\")\n",
    "print(groceries)\n"
   ]
  },
  {
   "cell_type": "code",
   "execution_count": 14,
   "metadata": {},
   "outputs": [
    {
     "name": "stdout",
     "output_type": "stream",
     "text": [
      "let me say me name in t a s m i a\n",
      "['shampoo', 'catnip', 'fruits', 'bedding', 'tools', 'sweets', 'notebook', 'flowers', 't', 'a', 's', 'm', 'i', 'a']\n"
     ]
    }
   ],
   "source": [
    "print(\"let me say me name in t a s m i a\")\n",
    "groceries.extend(\"tasmia\")\n",
    "print(groceries)"
   ]
  },
  {
   "cell_type": "code",
   "execution_count": 16,
   "metadata": {},
   "outputs": [
    {
     "name": "stdout",
     "output_type": "stream",
     "text": [
      "be specific with what kind of catnip...\n",
      "['shampoo', 'catnip', 'fruits', 'gala apples', 'tools', 'sweets', 'notebook', 'flowers', 't', 'a', 's', 'm', 'i', 'a', 'tasmia']\n"
     ]
    }
   ],
   "source": [
    "print(\"be specific with what kind of catnip...\")\n",
    "groceries[3] = \"gala apples\"\n",
    "print(groceries)\n"
   ]
  },
  {
   "cell_type": "code",
   "execution_count": 22,
   "metadata": {},
   "outputs": [
    {
     "name": "stdout",
     "output_type": "stream",
     "text": [
      "What is every other item on the list, starting from the second item?\n",
      "['catnip', 'gala apples']\n"
     ]
    }
   ],
   "source": [
    "print(\"What is every other item on the list, starting from the second item?\")\n",
    "print(groceries[1:4:2])\n"
   ]
  },
  {
   "cell_type": "code",
   "execution_count": null,
   "metadata": {},
   "outputs": [],
   "source": []
  }
 ],
 "metadata": {
  "kernelspec": {
   "display_name": "Python 3",
   "language": "python",
   "name": "python3"
  },
  "language_info": {
   "codemirror_mode": {
    "name": "ipython",
    "version": 3
   },
   "file_extension": ".py",
   "mimetype": "text/x-python",
   "name": "python",
   "nbconvert_exporter": "python",
   "pygments_lexer": "ipython3",
   "version": "3.8.5"
  }
 },
 "nbformat": 4,
 "nbformat_minor": 4
}
